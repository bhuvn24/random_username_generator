{
 "cells": [
  {
   "cell_type": "code",
   "execution_count": null,
   "id": "e784c104-1e37-4e90-943d-757fa9cc2755",
   "metadata": {},
   "outputs": [],
   "source": [
    "import random\n",
    "\n",
    "fnames = [ 'user', 'awesome', 'happy', 'john', 'jane', 'adventurer', 'music', 'gamer', 'travel', 'bookworm', 'techie', 'nature', 'foodie', 'fitness', 'artistic', 'movie', 'fashionista', 'sports', 'pet',\n",
    "    'happy', 'sad', 'brave', 'wild', 'gentle', 'cool', 'lucky', 'quick',\n",
    "    'bold', 'calm', 'daring', 'eager', 'fierce', 'gloomy', 'jolly', 'kind',\n",
    "    'lively', 'mighty', 'nervous', 'proud', 'silly', 'witty']\n",
    "          \n",
    "lnames =[\"guy\", \"dragon\",'lover','fan','coder', 'doe', 'smith', '', 'lover', 'girl', 'bug',  'fanatic', 'freak', 'heart', 'buff','dragon', 'tiger', 'phoenix', 'wolf', 'eagle', 'lion', 'bear', 'shark',\n",
    "    'panther', 'hawk', 'raven', 'fox', 'viper', 'falcon', 'gorilla',\n",
    "    'elephant', 'rhino', 'koala', 'kangaroo', 'panda', 'leopard']\n",
    "\n",
    "symbols =['_','@','']\n",
    "def username(is_num,is_symbol,L):\n",
    "    \n",
    "    first_name = random.choice(fnames)\n",
    "    last_name = random.choice(lnames)\n",
    "    username = first_name+last_name\n",
    "\n",
    "    if is_symbol:\n",
    "        symbol = random.choices(symbols,weights=[6,4,5],k=1)[0]\n",
    "        username= first_name+symbol+last_name\n",
    "        \n",
    "\n",
    "    if is_num:\n",
    "        nums=''.join(random.choices('0123456789',k=L))\n",
    "        username = username+nums\n",
    "        \n",
    "    return  username\n",
    "    \n",
    "def main():\n",
    "    \n",
    " n = int(input(\"number of username to generate\"))\n",
    " is_num =input(\"do u want numbers in username(y/n)\") == 'y'\n",
    " if is_num:\n",
    "      L=int(input(\"number of numbers in username\"))  \n",
    " else:\n",
    "      L = 0\n",
    " is_symbol =input(\"do u want symbols in username(y/n)\") == 'y'  \n",
    " un=[]   \n",
    " for _ in range(n):   \n",
    "    c = username(is_num,is_symbol,L)\n",
    "    try:\n",
    "      with open('un.txt','a') as p:\n",
    "          p.write(c+'\\n')\n",
    "    except Exception as e:\n",
    "        print(\"SomeThing Went Wrong\"+e)\n",
    "    else:\n",
    "        un.append(c)\n",
    "    \n",
    " print(un) \n",
    " print(f\"Successfully added {n} usernames to file username.\")\n",
    "    \n",
    "if __name__ == \"__main__\":\n",
    "    main()\n"
   ]
  }
 ],
 "metadata": {
  "kernelspec": {
   "display_name": "Python 3 (ipykernel)",
   "language": "python",
   "name": "python3"
  },
  "language_info": {
   "codemirror_mode": {
    "name": "ipython",
    "version": 3
   },
   "file_extension": ".py",
   "mimetype": "text/x-python",
   "name": "python",
   "nbconvert_exporter": "python",
   "pygments_lexer": "ipython3",
   "version": "3.12.4"
  }
 },
 "nbformat": 4,
 "nbformat_minor": 5
}
